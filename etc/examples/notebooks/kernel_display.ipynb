{
 "cells": [
  {
   "cell_type": "code",
   "execution_count": 1,
   "metadata": {
    "collapsed": false
   },
   "outputs": [
    {
     "name": "stdout",
     "output_type": "stream",
     "text": [
      "Starting download from http://localhost:8888/nbextensions/urth_widgets/urth-widgets.jar\n",
      "Finished download of urth-widgets.jar\n"
     ]
    }
   ],
   "source": [
    "%AddJar http://localhost:8888/nbextensions/urth_widgets/urth-widgets.jar"
   ]
  },
  {
   "cell_type": "code",
   "execution_count": 2,
   "metadata": {
    "collapsed": true
   },
   "outputs": [],
   "source": [
    "import urth.widgets._\n",
    "initWidgets"
   ]
  },
  {
   "cell_type": "code",
   "execution_count": 13,
   "metadata": {
    "collapsed": true
   },
   "outputs": [],
   "source": [
    "val greet = (name: String ) => {\n",
    "    kernel.display.html(s\"\"\"<h1>Hello $name</h1>\"\"\")\n",
    "    kernel.stream.sendAll(\"jjjjj\")\n",
    "}"
   ]
  },
  {
   "cell_type": "code",
   "execution_count": 15,
   "metadata": {
    "collapsed": false
   },
   "outputs": [
    {
     "data": {
      "text/html": [
       "<template is=\"urth-core-bind\">\n",
       "    <input value=\"{{name::input}}\"></input>\n",
       "    <urth-core-function ref=\"greet\" arg-name=\"{{name}}\" onclick=\"this.invoke()\">\n",
       "        <button>Greet</button>\n",
       "    </urth-core-function>    \n",
       "</template>"
      ]
     },
     "execution_count": 15,
     "metadata": {},
     "output_type": "execute_result"
    }
   ],
   "source": [
    "%%html\n",
    "<template is=\"urth-core-bind\">\n",
    "    <input value=\"{{name::input}}\"></input>\n",
    "    <urth-core-function ref=\"greet\" arg-name=\"{{name}}\" onclick=\"this.invoke()\">\n",
    "        <button>Greet</button>\n",
    "    </urth-core-function>    \n",
    "</template>"
   ]
  }
 ],
 "metadata": {
  "kernelspec": {
   "display_name": "Toree",
   "language": "",
   "name": "toree"
  },
  "language_info": {
   "name": "scala"
  }
 },
 "nbformat": 4,
 "nbformat_minor": 0
}
